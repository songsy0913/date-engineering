{
 "cells": [
  {
   "cell_type": "code",
   "execution_count": 9,
   "id": "800716e7-c277-4304-857f-e738ef7221df",
   "metadata": {},
   "outputs": [],
   "source": [
    "def get_my_chousun_name(family_name, month, day):\n",
    "    month_names = ['쌍', '쇠', '복', '돌', '팽', '육', '쌍', '개', '칠', '갑', '삼', '방']\n",
    "    day_names = ['봉', '구', '욕', '포', '똥', '삼', '식', '석', '놈', '님', '년', '돌', '단', '득', '방', '질', '장', '걸', '래', '룡', '동', '순', '자', '박', '창', '언', '것', '포', '만', '단', '국']\n",
    "\n",
    "    first_name = month_names[month -1]\n",
    "    second_name = day_names[day -1]\n",
    "\n",
    "    chousun_name = family_name + first_name + second_name\n",
    "\n",
    "    print(\"당신의 조선시대 이름은 {name} 입니다.\".format(name=chousun_name)) "
   ]
  },
  {
   "cell_type": "code",
   "execution_count": 10,
   "id": "14abdf6f-84cc-495e-a7e0-b601106505d1",
   "metadata": {},
   "outputs": [
    {
     "name": "stdout",
     "output_type": "stream",
     "text": [
      "당신의 조선시대 이름은 안칠걸 입니다.\n"
     ]
    }
   ],
   "source": [
    "get_my_chousun_name('안', 9, 18)"
   ]
  },
  {
   "cell_type": "code",
   "execution_count": null,
   "id": "93a48e0d-d0bc-4f74-bee1-f0b8fd4b5321",
   "metadata": {},
   "outputs": [],
   "source": []
  }
 ],
 "metadata": {
  "kernelspec": {
   "display_name": "Python 3 (ipykernel)",
   "language": "python",
   "name": "python3"
  },
  "language_info": {
   "codemirror_mode": {
    "name": "ipython",
    "version": 3
   },
   "file_extension": ".py",
   "mimetype": "text/x-python",
   "name": "python",
   "nbconvert_exporter": "python",
   "pygments_lexer": "ipython3",
   "version": "3.8.0"
  }
 },
 "nbformat": 4,
 "nbformat_minor": 5
}
