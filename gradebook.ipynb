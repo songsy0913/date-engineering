{
 "cells": [
  {
   "cell_type": "markdown",
   "id": "6659c2b9-12bd-43b4-af6a-c5b97ced0f76",
   "metadata": {},
   "source": [
    "### Create Some Lists"
   ]
  },
  {
   "cell_type": "code",
   "execution_count": 1,
   "id": "3b484f91-182a-4341-98db-a2763dabbdbd",
   "metadata": {},
   "outputs": [],
   "source": [
    "subjects = [\"physics\", \"calculus\", \"poetry\", \"history\"]\n",
    "grades = [98, 97, 85, 88]"
   ]
  },
  {
   "cell_type": "code",
   "execution_count": 6,
   "id": "26e56078-f286-4102-9533-94113cfa5f9c",
   "metadata": {},
   "outputs": [],
   "source": [
    "gradebook =[[\"physics\", 98],\n",
    "            [\"calculus\", 97],\n",
    "            [\"poetry\", 85],\n",
    "            [\"history\", 88]]"
   ]
  },
  {
   "cell_type": "code",
   "execution_count": 7,
   "id": "6aafa28c-b7ae-478a-8743-334b93f1fc23",
   "metadata": {},
   "outputs": [
    {
     "name": "stdout",
     "output_type": "stream",
     "text": [
      "[['physics', 98], ['calculus', 97], ['poetry', 85], ['history', 88]]\n"
     ]
    }
   ],
   "source": [
    "print(gradebook)"
   ]
  },
  {
   "cell_type": "code",
   "execution_count": 9,
   "id": "0236ebb2-3167-4436-a855-b6029a46193f",
   "metadata": {},
   "outputs": [],
   "source": [
    "gradebook.append([\"computer science\", 100])"
   ]
  },
  {
   "cell_type": "code",
   "execution_count": 10,
   "id": "78e76a95-78bf-489b-b29c-d6350f5ce475",
   "metadata": {},
   "outputs": [],
   "source": [
    "gradebook.append([\"visual arts\", 93])"
   ]
  },
  {
   "cell_type": "code",
   "execution_count": 11,
   "id": "1462c1d7-7fc8-4f65-a894-a80482783bd3",
   "metadata": {},
   "outputs": [
    {
     "name": "stdout",
     "output_type": "stream",
     "text": [
      "[['physics', 98], ['calculus', 97], ['poetry', 85], ['history', 88], ['computer science', 100], ['visual arts', 93]]\n"
     ]
    }
   ],
   "source": [
    "print(gradebook)"
   ]
  },
  {
   "cell_type": "markdown",
   "id": "1bc71135-c71c-4c5e-bb98-8a6ba106f2f5",
   "metadata": {},
   "source": [
    "### One Big Gradebook!"
   ]
  },
  {
   "cell_type": "code",
   "execution_count": 12,
   "id": "efe7ac6d-47c0-4132-89a6-629e757e9f27",
   "metadata": {},
   "outputs": [],
   "source": [
    "gradebook[-1][1] += 5"
   ]
  },
  {
   "cell_type": "code",
   "execution_count": 13,
   "id": "55029957-cad9-49fe-944c-209817e3c017",
   "metadata": {},
   "outputs": [],
   "source": [
    "gradebook[2].remove(85)\n",
    "gradebook[2].append(\"Pass\")"
   ]
  },
  {
   "cell_type": "code",
   "execution_count": 14,
   "id": "4f39bcdc-3f42-42a8-80e0-ad639e1677e6",
   "metadata": {},
   "outputs": [
    {
     "name": "stdout",
     "output_type": "stream",
     "text": [
      "[['physics', 98], ['calculus', 97], ['poetry', 'Pass'], ['history', 88], ['computer science', 100], ['visual arts', 98]]\n"
     ]
    }
   ],
   "source": [
    "print(gradebook)"
   ]
  },
  {
   "cell_type": "code",
   "execution_count": 15,
   "id": "c62f9b9f-b54e-480c-ad56-3f8472758b13",
   "metadata": {},
   "outputs": [],
   "source": [
    "last_semester_gradebook = [[\"politics\", 80], [\"latin\", 96], [\"dance\", 97], [\"architecture\", 65]]"
   ]
  },
  {
   "cell_type": "code",
   "execution_count": 16,
   "id": "eac0f9a3-47ae-4446-ba84-e5d0cb64b27d",
   "metadata": {},
   "outputs": [],
   "source": [
    "full_gradebook = last_semester_gradebook + gradebook"
   ]
  },
  {
   "cell_type": "code",
   "execution_count": 17,
   "id": "e2d1b049-32b5-4108-9749-a324f76281f9",
   "metadata": {},
   "outputs": [
    {
     "name": "stdout",
     "output_type": "stream",
     "text": [
      "[['politics', 80], ['latin', 96], ['dance', 97], ['architecture', 65], ['physics', 98], ['calculus', 97], ['poetry', 'Pass'], ['history', 88], ['computer science', 100], ['visual arts', 98]]\n"
     ]
    }
   ],
   "source": [
    "print(full_gradebook)"
   ]
  },
  {
   "cell_type": "code",
   "execution_count": null,
   "id": "4e6e7880-9215-46a2-a664-181764604d55",
   "metadata": {},
   "outputs": [],
   "source": []
  }
 ],
 "metadata": {
  "kernelspec": {
   "display_name": "Python 3 (ipykernel)",
   "language": "python",
   "name": "python3"
  },
  "language_info": {
   "codemirror_mode": {
    "name": "ipython",
    "version": 3
   },
   "file_extension": ".py",
   "mimetype": "text/x-python",
   "name": "python",
   "nbconvert_exporter": "python",
   "pygments_lexer": "ipython3",
   "version": "3.8.0"
  }
 },
 "nbformat": 4,
 "nbformat_minor": 5
}
